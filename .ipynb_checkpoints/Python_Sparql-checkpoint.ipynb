{
 "cells": [
  {
   "cell_type": "code",
   "execution_count": 12,
   "metadata": {
    "ExecuteTime": {
     "end_time": "2019-06-26T03:05:56.217001Z",
     "start_time": "2019-06-26T03:05:56.212014Z"
    }
   },
   "outputs": [],
   "source": [
    "from SPARQLWrapper import SPARQLWrapper, JSON"
   ]
  },
  {
   "cell_type": "code",
   "execution_count": 13,
   "metadata": {
    "ExecuteTime": {
     "end_time": "2019-06-26T03:05:57.367212Z",
     "start_time": "2019-06-26T03:05:57.364209Z"
    }
   },
   "outputs": [],
   "source": [
    "sparql = SPARQLWrapper(\"http://localhost:2020/sparql\")"
   ]
  },
  {
   "cell_type": "code",
   "execution_count": 3,
   "metadata": {
    "ExecuteTime": {
     "end_time": "2019-06-26T03:02:19.584559Z",
     "start_time": "2019-06-26T03:02:19.579575Z"
    }
   },
   "outputs": [],
   "source": [
    "#山竹有哪些微博舆情信息\n",
    "sparql.setQuery(\"\"\"\n",
    "    PREFIX : <http://www.taifengkg.com#>\n",
    "    PREFIX rdf: <http://www.w3.org/1999/02/22-rdf-syntax-ns#> \n",
    "    \n",
    "    SELECT ?n WHERE {\n",
    "    ?s rdf:type :Taifeng.\n",
    "    ?s :ChName '山竹'.\n",
    "    ?s :hasYq ?o.\n",
    "    ?o :wbText ?n\n",
    "}\n",
    "LIMIT 10 \n",
    "\"\"\") "
   ]
  },
  {
   "cell_type": "code",
   "execution_count": 14,
   "metadata": {
    "ExecuteTime": {
     "end_time": "2019-06-26T03:06:00.080156Z",
     "start_time": "2019-06-26T03:06:00.076169Z"
    }
   },
   "outputs": [],
   "source": [
    "#广州市天河区的生产总值\n",
    "sparql.setQuery(\"\"\"\n",
    "    PREFIX : <http://www.taifengkg.com#>\n",
    "    PREFIX rdf: <http://www.w3.org/1999/02/22-rdf-syntax-ns#> \n",
    "    \n",
    "    SELECT ?n WHERE {\n",
    "    ?s rdf:type :county.\n",
    "    ?s :ChName '广州市天河区'.\n",
    "    ?s :hasEconomy ?o.\n",
    "    ?o :Gross ?n\n",
    "}\n",
    "\"\"\") "
   ]
  },
  {
   "cell_type": "code",
   "execution_count": 15,
   "metadata": {
    "ExecuteTime": {
     "end_time": "2019-06-26T03:06:02.243454Z",
     "start_time": "2019-06-26T03:06:02.238468Z"
    }
   },
   "outputs": [],
   "source": [
    "sparql.setReturnFormat(JSON)"
   ]
  },
  {
   "cell_type": "code",
   "execution_count": 16,
   "metadata": {
    "ExecuteTime": {
     "end_time": "2019-06-26T03:06:03.153267Z",
     "start_time": "2019-06-26T03:06:03.132323Z"
    }
   },
   "outputs": [],
   "source": [
    "results = sparql.query().convert()"
   ]
  },
  {
   "cell_type": "code",
   "execution_count": 17,
   "metadata": {
    "ExecuteTime": {
     "end_time": "2019-06-26T03:06:04.817528Z",
     "start_time": "2019-06-26T03:06:04.811547Z"
    }
   },
   "outputs": [
    {
     "data": {
      "text/plain": [
       "{'head': {'vars': ['n']},\n",
       " 'results': {'bindings': [{'n': {'datatype': 'http://www.w3.org/2001/XMLSchema#double',\n",
       "     'type': 'typed-literal',\n",
       "     'value': '4.2856173E7'}}]}}"
      ]
     },
     "execution_count": 17,
     "metadata": {},
     "output_type": "execute_result"
    }
   ],
   "source": [
    "results"
   ]
  },
  {
   "cell_type": "code",
   "execution_count": 18,
   "metadata": {
    "ExecuteTime": {
     "end_time": "2019-06-26T03:06:07.498516Z",
     "start_time": "2019-06-26T03:06:07.492533Z"
    }
   },
   "outputs": [
    {
     "name": "stdout",
     "output_type": "stream",
     "text": [
      "4.2856173E7\n"
     ]
    }
   ],
   "source": [
    "for result in results[\"results\"][\"bindings\"]:\n",
    "    print(result[\"n\"][\"value\"])"
   ]
  },
  {
   "cell_type": "code",
   "execution_count": null,
   "metadata": {},
   "outputs": [],
   "source": []
  }
 ],
 "metadata": {
  "kernelspec": {
   "display_name": "Python 3",
   "language": "python",
   "name": "python3"
  },
  "language_info": {
   "codemirror_mode": {
    "name": "ipython",
    "version": 3
   },
   "file_extension": ".py",
   "mimetype": "text/x-python",
   "name": "python",
   "nbconvert_exporter": "python",
   "pygments_lexer": "ipython3",
   "version": "3.6.8"
  },
  "toc": {
   "base_numbering": 1,
   "nav_menu": {},
   "number_sections": true,
   "sideBar": true,
   "skip_h1_title": false,
   "title_cell": "Table of Contents",
   "title_sidebar": "Contents",
   "toc_cell": false,
   "toc_position": {},
   "toc_section_display": true,
   "toc_window_display": false
  },
  "varInspector": {
   "cols": {
    "lenName": 16,
    "lenType": 16,
    "lenVar": 40
   },
   "kernels_config": {
    "python": {
     "delete_cmd_postfix": "",
     "delete_cmd_prefix": "del ",
     "library": "var_list.py",
     "varRefreshCmd": "print(var_dic_list())"
    },
    "r": {
     "delete_cmd_postfix": ") ",
     "delete_cmd_prefix": "rm(",
     "library": "var_list.r",
     "varRefreshCmd": "cat(var_dic_list()) "
    }
   },
   "types_to_exclude": [
    "module",
    "function",
    "builtin_function_or_method",
    "instance",
    "_Feature"
   ],
   "window_display": false
  }
 },
 "nbformat": 4,
 "nbformat_minor": 2
}
